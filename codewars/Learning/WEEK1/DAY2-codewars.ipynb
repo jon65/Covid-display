{
 "cells": [
  {
   "cell_type": "markdown",
   "source": [
    "<html>\r\n",
    "<h1>CODEPEN</h1>\r\n"
   ],
   "metadata": {}
  },
  {
   "cell_type": "markdown",
   "source": [
    "<h1>Q1</h1>\r\n",
    "<div> s=\"aaabbbbhaijjjm\"\r\n",
    "printer_error(s) => \"0/14\"\r\n",
    "\r\n",
    "s=\"aaaxbbbbyyhwawiwjjjwwm\"\r\n",
    "printer_error(s) => \"8/22\"</div>\r\n",
    "\r\n"
   ],
   "metadata": {}
  },
  {
   "cell_type": "code",
   "execution_count": null,
   "source": [
    "s=\"aaabbbbhaijjjm\"\r\n",
    "s=\"aaaxbbbbyyhwawiwjjjwwm\""
   ],
   "outputs": [],
   "metadata": {}
  },
  {
   "cell_type": "code",
   "execution_count": null,
   "source": [
    "#my sol\r\n",
    "def printer_error(s):\r\n",
    "    count=0\r\n",
    "    for i in s:\r\n",
    "        if i>\"m\":\r\n",
    "            count+=1\r\n",
    "    return '%d/%d'%(count, len(s))\r\n"
   ],
   "outputs": [],
   "metadata": {}
  },
  {
   "cell_type": "code",
   "execution_count": null,
   "source": [
    "#Other sol\r\n",
    "from re import sub\r\n",
    "def printer_error(s):\r\n",
    "    return \"{}/{}\".format(len(sub(\"[a-m]\",'',s)),len(s))\r\n",
    "printer_error(s)"
   ],
   "outputs": [],
   "metadata": {}
  },
  {
   "cell_type": "code",
   "execution_count": null,
   "source": [
    "def printer_error(s):\r\n",
    "    return '{}/{}'.format(sum(color > 'm' for color in s), len(s))"
   ],
   "outputs": [],
   "metadata": {}
  },
  {
   "cell_type": "code",
   "execution_count": null,
   "source": [
    "def printer_error(s):\r\n",
    "    return \"{}/{}\".format(len([x for x in s if x not in \"abcdefghijklm\"]), len(s))"
   ],
   "outputs": [],
   "metadata": {}
  },
  {
   "cell_type": "markdown",
   "source": [
    "The translate() method returns a string where some specified characters are replaced with the character described in a dictionary, or in a mapping table.\r\n",
    "\r\n",
    "Use the maketrans() method to create a mapping table."
   ],
   "metadata": {}
  },
  {
   "cell_type": "code",
   "execution_count": null,
   "source": [
    "#use a dictionary with ascii codes to replace 83 (S) with 80 (P):\r\n",
    "mydict = {83:  80}\r\n",
    "txt = \"Hello Sam!\"\r\n",
    "print(txt.translate(mydict))"
   ],
   "outputs": [],
   "metadata": {}
  },
  {
   "cell_type": "code",
   "execution_count": null,
   "source": [
    "\r\n",
    "\r\n",
    "txt = \"Hello Sam!\"\r\n",
    "mytable = txt.maketrans(\"S\", \"P\")\r\n",
    "print(txt.translate(mytable))"
   ],
   "outputs": [],
   "metadata": {}
  },
  {
   "cell_type": "code",
   "execution_count": null,
   "source": [
    "\r\n",
    "def printer_error(s):\r\n",
    "    return \"%s/%s\" % (len(s.translate(str.maketrans('','','abcdefghijklm'))), len(s))\r\n",
    "\r\n",
    "printer_error(s)"
   ],
   "outputs": [],
   "metadata": {}
  },
  {
   "cell_type": "markdown",
   "source": [
    "<h1>Q2</h1>\r\n",
    "<p>\r\n",
    "Your task is to make a function that can take any non-negative integer as an argument and return it with its digits in descending order. Essentially, rearrange the digits to create the highest possible number.\r\n",
    "\r\n",
    "Examples:\r\n",
    "Input: 42145 Output: 54421\r\n",
    "\r\n",
    "Input: 145263 Output: 654321\r\n",
    "\r\n",
    "Input: 123456789 Output: 987654321\r\n",
    "</p>"
   ],
   "metadata": {}
  },
  {
   "cell_type": "code",
   "execution_count": null,
   "source": [
    "\r\n",
    "num1=111\r\n",
    "def descending_order(num):\r\n",
    "    num='{}'.format(num)\r\n",
    "    out=''\r\n",
    "    for i in range(len(num)):\r\n",
    "        char=max(num)\r\n",
    "        idx=num.index(char)\r\n",
    "        num=num.replace(num[idx],'', 1)\r\n",
    "        out+=char\r\n",
    "        \r\n",
    "    return out\r\n",
    "\r\n",
    "descending_order(num1)"
   ],
   "outputs": [],
   "metadata": {}
  },
  {
   "cell_type": "code",
   "execution_count": null,
   "source": [
    "def Descending_Order(num):\r\n",
    "    return int(\"\".join(sorted(str(num), reverse=True)))\r\n",
    "\r\n",
    "Descending_Order(num1)"
   ],
   "outputs": [],
   "metadata": {}
  },
  {
   "cell_type": "code",
   "execution_count": null,
   "source": [
    "string=\"abcd\"\r\n",
    "sorted(string, reverse=True)"
   ],
   "outputs": [],
   "metadata": {}
  },
  {
   "cell_type": "markdown",
   "source": [
    "<h1>Q3</h1>\r\n",
    "<p>\r\n",
    "Your task is to sort a given string. Each word in the string will contain a single number. This number is the position the word should have in the result.\r\n",
    "\r\n",
    "Note: Numbers can be from 1 to 9. So 1 will be the first word (not 0).\r\n",
    "\r\n",
    "If the input string is empty, return an empty string. The words in the input String will only contain valid consecutive numbers.\r\n",
    "\r\n",
    "</p>\r\n",
    "<p>\r\n",
    "\"is2 Thi1s T4est 3a\"  -->  \"Thi1s is2 3a T4est\"\r\n",
    "\"4of Fo1r pe6ople g3ood th5e the2\"  -->  \"Fo1r the2 g3ood 4of th5e pe6ople\"\r\n",
    "\"\"  -->  \"\"\r\n",
    "</p>"
   ],
   "metadata": {}
  },
  {
   "cell_type": "code",
   "execution_count": null,
   "source": [
    "def order(sentence):\r\n",
    "    if ' ' not in sentence:\r\n",
    "        return sentence\r\n",
    "    else:\r\n",
    "        lst= sentence.split()\r\n",
    "        out=[0]*(len(lst))\r\n",
    "        for word in lst:\r\n",
    "            for letter in word:\r\n",
    "                if letter.isdigit():\r\n",
    "                    place=int(letter)-1\r\n",
    "                    out[place]=word\r\n",
    "    #print(out)\r\n",
    "    return out[0]+' '+' '.join([word for word in out[1:]])"
   ],
   "outputs": [],
   "metadata": {}
  },
  {
   "cell_type": "code",
   "execution_count": null,
   "source": [
    "def order(sentence):\r\n",
    "    if ' ' not in sentence:\r\n",
    "        return sentence\r\n",
    "    else:\r\n",
    "        lst= sentence.split()\r\n",
    "        out=[0]*(len(lst))\r\n",
    "        for word in lst:\r\n",
    "            for letter in word:\r\n",
    "                if letter.isdigit():\r\n",
    "                    place=int(letter)-1\r\n",
    "                    out[place]=word\r\n",
    "    return \" \".join(out)\r\n",
    "\r\n",
    "order(\"is2 Thi1s T4est 3a\")"
   ],
   "outputs": [],
   "metadata": {}
  },
  {
   "cell_type": "code",
   "execution_count": null,
   "source": [
    "list1 = ['zero', 'one', 'two', 'three', 'four', 'five', 'six']\r\n",
    "list2 = [x*2 for x in list1[1:4]]\r\n",
    "list2"
   ],
   "outputs": [],
   "metadata": {}
  },
  {
   "cell_type": "code",
   "execution_count": 60,
   "source": [
    "def order(words):\r\n",
    "  return ' '.join(sorted(words.split(), key=lambda w:sorted(w)))\r\n",
    "\r\n",
    "order(\"is2 Thi1s T4est 3a\")"
   ],
   "outputs": [
    {
     "output_type": "execute_result",
     "data": {
      "text/plain": [
       "'Thi1s is2 3a T4est'"
      ]
     },
     "metadata": {},
     "execution_count": 60
    }
   ],
   "metadata": {}
  },
  {
   "cell_type": "markdown",
   "source": [
    "The comparison uses lexicographical ordering: first the first two items are compared, and if they differ this determines the outcome of the comparison; if they are equal, the next two items are compared, and so on, until either sequence is exhausted."
   ],
   "metadata": {}
  },
  {
   "cell_type": "code",
   "execution_count": 62,
   "source": [
    "\"1abc\"<\"2cde\""
   ],
   "outputs": [
    {
     "output_type": "execute_result",
     "data": {
      "text/plain": [
       "True"
      ]
     },
     "metadata": {},
     "execution_count": 62
    }
   ],
   "metadata": {}
  },
  {
   "cell_type": "code",
   "execution_count": 65,
   "source": [
    "\"abc1\"<\"abc2\""
   ],
   "outputs": [
    {
     "output_type": "execute_result",
     "data": {
      "text/plain": [
       "True"
      ]
     },
     "metadata": {},
     "execution_count": 65
    }
   ],
   "metadata": {}
  },
  {
   "cell_type": "code",
   "execution_count": 64,
   "source": [
    "\"bcc1\"<\"aa2\""
   ],
   "outputs": [
    {
     "output_type": "execute_result",
     "data": {
      "text/plain": [
       "False"
      ]
     },
     "metadata": {},
     "execution_count": 64
    }
   ],
   "metadata": {}
  },
  {
   "cell_type": "markdown",
   "source": [
    "<h1>Q4</h1>\r\n",
    "<p>You might know some pretty large perfect squares. But what about the NEXT one?\r\n",
    "\r\n",
    "Complete the findNextSquare method that finds the next integral perfect square after the one passed as a parameter. Recall that an integral perfect square is an integer n such that sqrt(n) is also an integer.\r\n",
    "\r\n",
    "If the parameter is itself not a perfect square then -1 should be returned. You may assume the parameter is non-negative.</p>\r\n",
    "<br>\r\n",
    "<p>findNextSquare(121) --> returns 144\r\n",
    "findNextSquare(625) --> returns 676\r\n",
    "findNextSquare(114) --> returns -1 since 114 is not a perfect square</p>"
   ],
   "metadata": {}
  },
  {
   "cell_type": "code",
   "execution_count": 70,
   "source": [
    "print(2**2)"
   ],
   "outputs": [
    {
     "output_type": "stream",
     "name": "stdout",
     "text": [
      "4\n"
     ]
    }
   ],
   "metadata": {}
  },
  {
   "cell_type": "code",
   "execution_count": 76,
   "source": [
    "def find_next_square(sq):\r\n",
    "    out=-1\r\n",
    "    root=sq**0.5\r\n",
    "    if root%1==0:\r\n",
    "        out= (root+1)**2\r\n",
    "    return out\r\n",
    "\r\n",
    "find_next_square(121)"
   ],
   "outputs": [
    {
     "output_type": "execute_result",
     "data": {
      "text/plain": [
       "144.0"
      ]
     },
     "metadata": {},
     "execution_count": 76
    }
   ],
   "metadata": {}
  },
  {
   "cell_type": "code",
   "execution_count": 77,
   "source": [
    "def find_next_square(sq):\r\n",
    "    x = sq**0.5    \r\n",
    "    return -1 if x % 1 else (x+1)**2\r\n",
    "\r\n",
    "find_next_square(121)"
   ],
   "outputs": [
    {
     "output_type": "execute_result",
     "data": {
      "text/plain": [
       "144.0"
      ]
     },
     "metadata": {},
     "execution_count": 77
    }
   ],
   "metadata": {}
  },
  {
   "cell_type": "markdown",
   "source": [],
   "metadata": {}
  },
  {
   "cell_type": "code",
   "execution_count": null,
   "source": [],
   "outputs": [],
   "metadata": {}
  }
 ],
 "metadata": {
  "orig_nbformat": 4,
  "language_info": {
   "name": "python",
   "version": "3.9.5",
   "mimetype": "text/x-python",
   "codemirror_mode": {
    "name": "ipython",
    "version": 3
   },
   "pygments_lexer": "ipython3",
   "nbconvert_exporter": "python",
   "file_extension": ".py"
  },
  "kernelspec": {
   "name": "python3",
   "display_name": "Python 3.9.5 64-bit"
  },
  "interpreter": {
   "hash": "9bb202ab933488e2c896d83b69c17805b7bfafa69657c445e6b48efb3750f8f0"
  }
 },
 "nbformat": 4,
 "nbformat_minor": 2
}