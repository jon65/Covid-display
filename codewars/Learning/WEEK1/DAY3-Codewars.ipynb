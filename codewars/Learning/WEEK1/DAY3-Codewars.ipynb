{
 "cells": [
  {
   "cell_type": "markdown",
   "source": [
    "<h1>Q1</h1>\r\n",
    "\r\n",
    "<div>seven(times(five())) # must return 35\r\n",
    "four(plus(nine())) # must return 13\r\n",
    "eight(minus(three())) # must return 5\r\n",
    "six(divided_by(two())) # must return 3</div>"
   ],
   "metadata": {}
  },
  {
   "cell_type": "code",
   "execution_count": 37,
   "source": [
    "def zero(f = None): return 0 if not f else f(0)\r\n",
    "def one(f = None): return 1 if not f else f(1)\r\n",
    "def two(f = None): return 2 if not f else f(2)\r\n",
    "def three(f = None): return 3 if not f else f(3)\r\n",
    "def four(f = None): return 4 if not f else f(4)\r\n",
    "def five(f = None): return 5 if not f else f(5)\r\n",
    "def six(f = None): return 6 if not f else f(6)\r\n",
    "def seven(f = None): return 7 if not f else f(7)\r\n",
    "def eight(f = None): return 8 if not f else f(8)\r\n",
    "def nine(f = None): return 9 if not f else f(9)\r\n",
    "\r\n",
    "def plus(y): return lambda x: x+y\r\n",
    "def minus(y): return lambda x: x-y\r\n",
    "def times(y): return lambda  x: x*y\r\n",
    "def divided_by(y): return lambda  x: x//y"
   ],
   "outputs": [],
   "metadata": {}
  },
  {
   "cell_type": "code",
   "execution_count": 38,
   "source": [
    "eight(divided_by(three()))"
   ],
   "outputs": [
    {
     "output_type": "execute_result",
     "data": {
      "text/plain": [
       "2"
      ]
     },
     "metadata": {},
     "execution_count": 38
    }
   ],
   "metadata": {}
  },
  {
   "cell_type": "markdown",
   "source": [
    "The eval() method parses the expression passed to this method and runs python expression (code) within the program."
   ],
   "metadata": {}
  },
  {
   "cell_type": "code",
   "execution_count": 39,
   "source": [
    "x = 1\r\n",
    "print(eval('x + 1'))"
   ],
   "outputs": [
    {
     "output_type": "stream",
     "name": "stdout",
     "text": [
      "2\n"
     ]
    }
   ],
   "metadata": {}
  },
  {
   "cell_type": "markdown",
   "source": [
    "The filter() function extracts elements from an iterable (list, tuple etc.) for which a function returns True.\r\n",
    "\r\n",
    "filter() Syntax\r\n",
    "Its syntax is:\r\n",
    "\r\n",
    "filter(function, iterable)\r\n",
    "filter() Arguments\r\n",
    "The filter() function takes two arguments:\r\n",
    "\r\n",
    "function - a function\r\n",
    "iterable - an iterable like sets, lists, tuples etc."
   ],
   "metadata": {}
  },
  {
   "cell_type": "code",
   "execution_count": 40,
   "source": [
    "numbers = [1, 2, 3, 4, 5, 6, 7, 8, 9, 10]\r\n",
    "\r\n",
    "# returns True if number is even\r\n",
    "def check_even(number):\r\n",
    "    if number % 2 == 0:\r\n",
    "          return True  \r\n",
    "\r\n",
    "    return False\r\n",
    "\r\n",
    "# Extract elements from the numbers list for which check_even() returns True\r\n",
    "even_numbers_iterator = filter(check_even, numbers)\r\n",
    "\r\n",
    "# converting to list\r\n",
    "even_numbers = list(even_numbers_iterator)\r\n",
    "\r\n",
    "print(even_numbers)\r\n",
    "\r\n",
    "# Output: [2, 4, 6, 8, 10]"
   ],
   "outputs": [
    {
     "output_type": "stream",
     "name": "stdout",
     "text": [
      "[2, 4, 6, 8, 10]\n"
     ]
    }
   ],
   "metadata": {}
  },
  {
   "cell_type": "code",
   "execution_count": 41,
   "source": [
    "letters = ['a', 'b', 'd', 'e', 'i', 'j', 'o']\r\n",
    "\r\n",
    "# a function that returns True if letter is vowel\r\n",
    "def filter_vowels(letter):\r\n",
    "    vowels = ['a', 'e', 'i', 'o', 'u']\r\n",
    "    return True if letter in vowels else False\r\n",
    "\r\n",
    "filtered_vowels = filter(filter_vowels, letters)\r\n",
    "\r\n",
    "# converting to tuple\r\n",
    "vowels = tuple(filtered_vowels)\r\n",
    "print(vowels)"
   ],
   "outputs": [
    {
     "output_type": "stream",
     "name": "stdout",
     "text": [
      "('a', 'e', 'i', 'o')\n"
     ]
    }
   ],
   "metadata": {}
  },
  {
   "cell_type": "markdown",
   "source": [
    "<h1>Q2</h1>\r\n",
    "<p>Find first non repeating number</p>"
   ],
   "metadata": {}
  },
  {
   "cell_type": "code",
   "execution_count": 42,
   "source": [
    "def largest_repeating_letter(string):\r\n",
    "    s=string.count(string[0])\r\n",
    "    if len(string)==1:\r\n",
    "        return string\r\n",
    "    elif len(string)==s:\r\n",
    "        return ''\r\n",
    "    else:\r\n",
    "        return itr_count(string[1:], s, string[0])\r\n",
    "        \r\n",
    "def itr_count(string, max, char):\r\n",
    "    letter=string[0]\r\n",
    "    s=string.count(letter)\r\n",
    "    if s>max and len(string)>0:\r\n",
    "        itr_count(string[1:], s, letter)\r\n",
    "    else:\r\n",
    "        return char"
   ],
   "outputs": [],
   "metadata": {}
  },
  {
   "cell_type": "code",
   "execution_count": 43,
   "source": [
    "def first_non_repeating_letter(string):\r\n",
    "    string1=string.lower()\r\n",
    "    out=''\r\n",
    "    if len(string1)>1 and string1.count(string1[0])==len(string1):\r\n",
    "        return out\r\n",
    "    for l in range(len(string1)):\r\n",
    "        if string1.count(string1[l])==1:\r\n",
    "            return string[l]\r\n",
    "    return out \r\n",
    "first_non_repeating_letter('sTreSS')"
   ],
   "outputs": [
    {
     "output_type": "execute_result",
     "data": {
      "text/plain": [
       "'T'"
      ]
     },
     "metadata": {},
     "execution_count": 43
    }
   ],
   "metadata": {}
  },
  {
   "cell_type": "code",
   "execution_count": 44,
   "source": [
    "#ONLINE SOL\r\n",
    "def first_non_repeating_letter(string):\r\n",
    "    string_lower = string.lower()\r\n",
    "    for i, letter in enumerate(string_lower):\r\n",
    "        if string_lower.count(letter) == 1:\r\n",
    "            return string[i]\r\n",
    "            \r\n",
    "    return \"\""
   ],
   "outputs": [],
   "metadata": {}
  },
  {
   "cell_type": "code",
   "execution_count": 45,
   "source": [
    "def first_non_repeating_letter(string):\r\n",
    "    \r\n",
    "    s = string.lower()\r\n",
    "    \r\n",
    "    for i in string:\r\n",
    "        if s.count(i.lower()) == 1:\r\n",
    "            return i\r\n",
    "    return ''"
   ],
   "outputs": [],
   "metadata": {}
  },
  {
   "cell_type": "markdown",
   "source": [
    "Syntax of enumerate()\r\n",
    "The syntax of enumerate() is:\r\n",
    "\r\n",
    "enumerate(iterable, start=0)\r\n",
    "enumerate() method takes two parameters:\r\n",
    "\r\n",
    "You can convert enumerate objects to list and tuple using list() and tuple() method respectively."
   ],
   "metadata": {}
  },
  {
   "cell_type": "code",
   "execution_count": 46,
   "source": [
    "grocery = ['bread', 'milk', 'butter']\r\n",
    "\r\n",
    "for item in enumerate(grocery):\r\n",
    "  print(item)\r\n",
    "\r\n",
    "print('\\n')\r\n",
    "\r\n",
    "for count, item in enumerate(grocery):\r\n",
    "  print(count, item)\r\n",
    "\r\n",
    "print('\\n')\r\n",
    "# changing default start value\r\n",
    "for count, item in enumerate(grocery, 100):\r\n",
    "  print(count, item)"
   ],
   "outputs": [
    {
     "output_type": "stream",
     "name": "stdout",
     "text": [
      "(0, 'bread')\n",
      "(1, 'milk')\n",
      "(2, 'butter')\n",
      "\n",
      "\n",
      "0 bread\n",
      "1 milk\n",
      "2 butter\n",
      "\n",
      "\n",
      "100 bread\n",
      "101 milk\n",
      "102 butter\n"
     ]
    }
   ],
   "metadata": {}
  },
  {
   "cell_type": "markdown",
   "source": [
    "<h1>Q3</h1>\r\n"
   ],
   "metadata": {}
  },
  {
   "cell_type": "code",
   "execution_count": 47,
   "source": [
    "def count(string):\r\n",
    "    out={}\r\n",
    "    for char in string:\r\n",
    "        try:\r\n",
    "            out[char]+=1\r\n",
    "        except:\r\n",
    "            out[char]=1\r\n",
    "    return out"
   ],
   "outputs": [],
   "metadata": {}
  },
  {
   "cell_type": "code",
   "execution_count": 48,
   "source": [
    "def count(string):\r\n",
    "    counter = {}\r\n",
    "    for char in string:\r\n",
    "        counter[char] = counter.get(char, 0) + 1\r\n",
    "    return counter"
   ],
   "outputs": [],
   "metadata": {}
  },
  {
   "cell_type": "code",
   "execution_count": 49,
   "source": [
    "def count(string):\r\n",
    "  \r\n",
    "    return {i: string.count(i) for i in string}\r\n"
   ],
   "outputs": [],
   "metadata": {}
  },
  {
   "cell_type": "code",
   "execution_count": 50,
   "source": [
    "from collections import Counter\r\n",
    "\r\n",
    "def count(string):\r\n",
    "    return Counter(string)\r\n",
    "\r\n",
    "count('aaaabbbc')"
   ],
   "outputs": [
    {
     "output_type": "execute_result",
     "data": {
      "text/plain": [
       "Counter({'a': 4, 'b': 3, 'c': 1})"
      ]
     },
     "metadata": {},
     "execution_count": 50
    }
   ],
   "metadata": {}
  },
  {
   "cell_type": "code",
   "execution_count": 51,
   "source": [
    "s={'a':1, 'b':1, 'c':1}\r\n",
    "s['a']=2\r\n",
    "print(s)\r\n",
    "b='aaabbbcc'\r\n",
    "print({b[i]: b.count('b') for i in range(5)})"
   ],
   "outputs": [
    {
     "output_type": "stream",
     "name": "stdout",
     "text": [
      "{'a': 2, 'b': 1, 'c': 1}\n",
      "{'a': 3, 'b': 3}\n"
     ]
    }
   ],
   "metadata": {}
  },
  {
   "cell_type": "markdown",
   "source": [
    "<h1>Q4- JS</h1>"
   ],
   "metadata": {}
  },
  {
   "cell_type": "code",
   "execution_count": 62,
   "source": [
    "//%%javascript\r\n",
    "// window.executePython = function(python) {\r\n",
    "//     return new Promise((resolve, reject) => {\r\n",
    "//         var callbacks = {\r\n",
    "//             iopub: {\r\n",
    "//                 output: (data) => resolve(data.content.text.trim())\r\n",
    "//             }\r\n",
    "//         };\r\n",
    "//         Jupyter.notebook.kernel.execute(`print(${python})`, callbacks);    \r\n",
    "//     });\r\n",
    "// }\r\n",
    "// Use it in any Jupyter JS/HTML cell like this\r\n",
    "//window.executePython(\"1 + 1\")\r\n",
    "    //.then(result => console.log(result)); // Logs 2\r\n",
    "\r\n",
    "// You can access any defined object/method in the notebook\r\n",
    "// I suggest writing a function that returns your data as JSON and just calling the function."
   ],
   "outputs": [
    {
     "output_type": "display_data",
     "data": {
      "application/javascript": "window.executePython = function(python) {\r\n    return new Promise((resolve, reject) => {\r\n        var callbacks = {\r\n            iopub: {\r\n                output: (data) => resolve(data.content.text.trim())\r\n            }\r\n        };\r\n        Jupyter.notebook.kernel.execute(`print(${python})`, callbacks);    \r\n    });\r\n}\r\n// Use it in any Jupyter JS/HTML cell like this\r\n%%javascript\r\nwindow.executePython(\"1 + 1\")\r\n    .then(result => console.log(result)); // Logs 2\r\n\r\n// You can access any defined object/method in the notebook\r\n// I suggest writing a function that returns your data as JSON and just calling the function.\n",
      "text/plain": [
       "<IPython.core.display.Javascript object>"
      ]
     },
     "metadata": {}
    }
   ],
   "metadata": {}
  },
  {
   "cell_type": "code",
   "execution_count": 70,
   "source": [
    "\r\n",
    "%%javascript\r\n",
    "function filter_list(l) {\r\n",
    "    return l.filter(function(v) {return typeof v == 'number'})\r\n",
    "  }\r\n",
    "console.log(filter_list(['a','b',1,2,3]))"
   ],
   "outputs": [
    {
     "output_type": "display_data",
     "data": {
      "application/javascript": "function filter_list(l) {\r\n    return l.filter(function(v) {return typeof v == 'number'})\r\n  }\r\nconsole.log(filter_list(['a','b',1,2,3]))\n",
      "text/plain": [
       "<IPython.core.display.Javascript object>"
      ]
     },
     "metadata": {}
    }
   ],
   "metadata": {}
  },
  {
   "cell_type": "markdown",
   "source": [
    "Syntax of Dictionary get()\r\n",
    "The syntax of get() is:\r\n",
    "\r\n",
    "dict.get(key[, value]) "
   ],
   "metadata": {}
  }
 ],
 "metadata": {
  "orig_nbformat": 4,
  "language_info": {
   "name": "python",
   "version": "3.9.5",
   "mimetype": "text/x-python",
   "codemirror_mode": {
    "name": "ipython",
    "version": 3
   },
   "pygments_lexer": "ipython3",
   "nbconvert_exporter": "python",
   "file_extension": ".py"
  },
  "kernelspec": {
   "name": "python3",
   "display_name": "Python 3.9.5 64-bit"
  },
  "interpreter": {
   "hash": "9bb202ab933488e2c896d83b69c17805b7bfafa69657c445e6b48efb3750f8f0"
  }
 },
 "nbformat": 4,
 "nbformat_minor": 2
}