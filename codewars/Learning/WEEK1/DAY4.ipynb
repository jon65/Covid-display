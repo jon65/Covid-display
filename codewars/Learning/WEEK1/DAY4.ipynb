{
 "cells": [
  {
   "cell_type": "markdown",
   "metadata": {},
   "source": [
    "<h1>Q1</h1>"
   ]
  },
  {
   "cell_type": "code",
   "execution_count": null,
   "metadata": {},
   "outputs": [
    {
     "ename": "ValueError",
     "evalue": "empty separator",
     "output_type": "error",
     "traceback": [
      "\u001b[1;31m---------------------------------------------------------------------------\u001b[0m",
      "\u001b[1;31mValueError\u001b[0m                                Traceback (most recent call last)",
      "\u001b[1;32mC:\\Users\\ENDUSE~1\\AppData\\Local\\Temp/ipykernel_4472/97208284.py\u001b[0m in \u001b[0;36m<module>\u001b[1;34m\u001b[0m\n\u001b[0;32m      1\u001b[0m \u001b[0ms\u001b[0m\u001b[1;33m=\u001b[0m\u001b[1;34m'abc'\u001b[0m\u001b[1;33m\u001b[0m\u001b[1;33m\u001b[0m\u001b[0m\n\u001b[1;32m----> 2\u001b[1;33m \u001b[0ms\u001b[0m\u001b[1;33m.\u001b[0m\u001b[0msplit\u001b[0m\u001b[1;33m(\u001b[0m\u001b[1;34m''\u001b[0m\u001b[1;33m)\u001b[0m\u001b[1;33m\u001b[0m\u001b[1;33m\u001b[0m\u001b[0m\n\u001b[0m",
      "\u001b[1;31mValueError\u001b[0m: empty separator"
     ]
    }
   ],
   "source": [
    "// The triple equals operator (===) returns true if both operands are of the same type and contain the same value. \n",
    "//If comparing different types for equality, the result is false.\n",
    "\n",
    "function iqTest(numbers){\n",
    "    numbers = numbers.split(\" \").map(function(el){return parseInt(el)});\n",
    "    \n",
    "    var odd = numbers.filter(function(el){ return el % 2 === 1});\n",
    "    var even = numbers.filter(function(el){ return el % 2 === 0});\n",
    "    \n",
    "    return odd.length < even.length ? (numbers.indexOf(odd[0]) + 1) : (numbers.indexOf(even[0]) + 1);\n",
    "  }"
   ]
  },
  {
   "cell_type": "code",
   "execution_count": null,
   "metadata": {},
   "outputs": [],
   "source": [
    "function iqTest(numbers){\n",
    "    const numArr = numbers.split(' ');\n",
    "  \n",
    "    const checkStatus = num => (parseInt(num) % 2) ? 'odd' : 'even';\n",
    "  \n",
    "    const findUniqueStatus = array => {\n",
    "      let numEvens = 0;\n",
    "  \n",
    "      array.forEach(function(value){\n",
    "        if (checkStatus(value) == 'even') { numEvens++; }\n",
    "      });\n",
    "  \n",
    "      return (numEvens === 1) ? 'even' : 'odd'\n",
    "    }\n",
    "  \n",
    "    let statuses = numArr.map(checkStatus),\n",
    "        uniqueStatus = findUniqueStatus(numArr);\n",
    "  \n",
    "    return statuses.indexOf(uniqueStatus) + 1;\n",
    "  }"
   ]
  },
  {
   "cell_type": "code",
   "execution_count": null,
   "metadata": {},
   "outputs": [],
   "source": [
    "function iqTest(numbers){\n",
    "    numbers = numbers.split(' ')\n",
    "    \n",
    "    var evens = []\n",
    "    var odds = []\n",
    "    \n",
    "    for (var i = 0; i < numbers.length; i++) {\n",
    "      if (numbers[i] & 1) {\n",
    "        odds.push(i + 1)\n",
    "      } else {\n",
    "        evens.push(i + 1)\n",
    "      }\n",
    "    }\n",
    "    \n",
    "    return evens.length === 1 ? evens[0] : odds[0]\n",
    "  }``"
   ]
  },
  {
   "cell_type": "markdown",
   "metadata": {},
   "source": [
    "<h1>Q2</h1>"
   ]
  },
  {
   "cell_type": "code",
   "execution_count": null,
   "metadata": {},
   "outputs": [],
   "source": [
    "//The match() method retrieves the result of matching a string against a regular expression.\n",
    "function XO(str) {\n",
    "    let x = str.match(/x/gi);\n",
    "    let o = str.match(/o/gi);\n",
    "    return (x && x.length) === (o && o.length);\n",
    "  }"
   ]
  },
  {
   "cell_type": "markdown",
   "metadata": {},
   "source": [
    "<h1>Q3</h1>"
   ]
  },
  {
   "cell_type": "code",
   "execution_count": null,
   "metadata": {},
   "outputs": [],
   "source": [
    "\n",
    "function getSum( a,b )\n",
    "{\n",
    "  out=0\n",
    "  arg1=a\n",
    "  arg2=b\n",
    "  if (b<a) {\n",
    "    arg1 = b\n",
    "    arg2 = a\n",
    "  }\n",
    "  else if (a==b) {\n",
    "    return a\n",
    "  }\n",
    "  for (let i=arg1; i<=arg2; i++) {\n",
    "     out+=i\n",
    "   }\n",
    "  return out\n",
    "}\n",
    "\n",
    "console.log(\"result: \"+ getSum(0, -1))"
   ]
  },
  {
   "cell_type": "code",
   "execution_count": null,
   "metadata": {},
   "outputs": [],
   "source": [
    "const GetSum = (a, b) => {\n",
    "    let min = Math.min(a, b),\n",
    "        max = Math.max(a, b);\n",
    "    return (max - min + 1) * (min + max) / 2;\n",
    "  }\n",
    "  "
   ]
  },
  {
   "cell_type": "code",
   "execution_count": null,
   "metadata": {},
   "outputs": [],
   "source": [
    "function GetSum(a,b)\n",
    "{\n",
    "  return (Math.abs(a - b) + 1) * (a+b) / 2;\n",
    "}"
   ]
  },
  {
   "cell_type": "markdown",
   "metadata": {},
   "source": [
    "<h1>Q4</h1>"
   ]
  },
  {
   "cell_type": "code",
   "execution_count": null,
   "metadata": {},
   "outputs": [],
   "source": [
    "function list(names){\n",
    "    out=''\n",
    "    len=names.length\n",
    "    if (len==0) {\n",
    "      return out\n",
    "    }\n",
    "    else if (len==1) {\n",
    "      return names[0]['name']\n",
    "    }\n",
    "    else {\n",
    "      out= names[0]['name']\n",
    "      //name=names[0]['name']\n",
    "      //out = `${name}`\n",
    "      for (let i=0; i<(len-1); i++) {\n",
    "          out+=', '+ names[i]['name']\n",
    "  \n",
    "        }\n",
    "      out+=' & ' + names[len-1]['name']\n",
    "      return out\n",
    "      }\n",
    "  }\n"
   ]
  },
  {
   "cell_type": "code",
   "execution_count": null,
   "metadata": {},
   "outputs": [],
   "source": [
    "function list(names){\n",
    "    return names.reduce(function(prev, current, index, array){\n",
    "      if (index === 0){\n",
    "        return current.name;\n",
    "      }\n",
    "      else if (index === array.length - 1){\n",
    "        return prev + ' & ' + current.name;\n",
    "      } \n",
    "      else {\n",
    "        return prev + ', ' + current.name;\n",
    "      }\n",
    "    }, '');\n",
    "   }"
   ]
  },
  {
   "cell_type": "code",
   "execution_count": null,
   "metadata": {},
   "outputs": [],
   "source": [
    "function list(names) {\n",
    "    var xs = names.map(p => p.name)\n",
    "    var x = xs.pop()\n",
    "    return xs.length ? xs.join(\", \") + \" & \" + x : x || \"\"\n",
    "  }"
   ]
  }
 ],
 "metadata": {
  "interpreter": {
   "hash": "9bb202ab933488e2c896d83b69c17805b7bfafa69657c445e6b48efb3750f8f0"
  },
  "kernelspec": {
   "display_name": "Python 3.9.5 64-bit",
   "name": "python3"
  },
  "language_info": {
   "codemirror_mode": {
    "name": "ipython",
    "version": 3
   },
   "file_extension": ".py",
   "mimetype": "text/x-python",
   "name": "python",
   "nbconvert_exporter": "python",
   "pygments_lexer": "ipython3",
   "version": "3.9.5"
  },
  "orig_nbformat": 4
 },
 "nbformat": 4,
 "nbformat_minor": 2
}
