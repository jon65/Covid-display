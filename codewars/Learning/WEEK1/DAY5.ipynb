{
 "cells": [
  {
   "cell_type": "markdown",
   "source": [
    "<h1>Q1</h1>"
   ],
   "metadata": {}
  },
  {
   "cell_type": "code",
   "execution_count": null,
   "source": [
    "function pigIt(str){\r\n",
    "  return str.replace(/(\\w)(\\w*)(\\s|$)/g, \"\\$2\\$1ay\\$3\")\r\n",
    "}\r\n"
   ],
   "outputs": [],
   "metadata": {}
  },
  {
   "cell_type": "markdown",
   "source": [
    "<h2>Regular Expression</h2>"
   ],
   "metadata": {}
  },
  {
   "cell_type": "code",
   "execution_count": null,
   "source": [],
   "outputs": [],
   "metadata": {}
  }
 ],
 "metadata": {
  "orig_nbformat": 4,
  "language_info": {
   "name": "python"
  }
 },
 "nbformat": 4,
 "nbformat_minor": 2
}