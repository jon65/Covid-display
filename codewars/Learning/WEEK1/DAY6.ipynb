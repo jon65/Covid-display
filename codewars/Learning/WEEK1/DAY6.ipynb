{
 "cells": [
  {
   "cell_type": "code",
   "execution_count": null,
   "source": [
    "\r\n",
    "#is_holiday()\r\n",
    "\r\n",
    "from datetime import date, datetime, time\r\n",
    "from workalendar.oceania import Australia \r\n",
    "cal=Australia()\r\n",
    "d='2021-01-01'\r\n",
    "a=datetime.strptime(d, \"%Y-%m-%d\")\r\n",
    "print(cal.is_working_day(a))\r\n",
    "\r\n",
    "\r\n"
   ],
   "outputs": [
    {
     "output_type": "stream",
     "name": "stdout",
     "text": [
      "False\n"
     ]
    }
   ],
   "metadata": {}
  },
  {
   "cell_type": "code",
   "execution_count": null,
   "source": [
    "#is_peak()\r\n",
    "\r\n",
    "t='21:00'\r\n",
    "ti = datetime.strptime(t, \"%H:%M\")\r\n",
    "print(ti.hour, ti.minute)"
   ],
   "outputs": [
    {
     "output_type": "stream",
     "name": "stdout",
     "text": [
      "21 0\n"
     ]
    }
   ],
   "metadata": {}
  },
  {
   "cell_type": "code",
   "execution_count": null,
   "source": [
    "ti<datetime.strptime(\"18:00\", \"%H:%M\")"
   ],
   "outputs": [
    {
     "output_type": "execute_result",
     "data": {
      "text/plain": [
       "False"
      ]
     },
     "metadata": {},
     "execution_count": 17
    }
   ],
   "metadata": {}
  },
  {
   "cell_type": "code",
   "execution_count": null,
   "source": [
    "\r\n",
    "class Charger_Configurations:\r\n",
    "    configuration={\"1\":{\"power\":2, \r\n",
    "                        \"base\":5},\r\n",
    "                    \"2\":{\"power\":3.6, \r\n",
    "                        \"base\":7.5},\r\n",
    "                    \"3\":{\"power\":7.2, \r\n",
    "                        \"base\":10},\r\n",
    "                    \"4\":{\"power\":11, \r\n",
    "                        \"base\":12.5},\r\n",
    "                    \"5\":{\"power\":22, \r\n",
    "                        \"base\":15},\r\n",
    "                    \"6\":{\"power\":36, \r\n",
    "                        \"base\":20},\r\n",
    "                    \"7\":{\"power\":90, \r\n",
    "                        \"base\":30},\r\n",
    "                    \"8\":{\"power\":350, \r\n",
    "                        \"base\":50},\r\n",
    "                        }\r\n",
    "    \r\n",
    "\r\n",
    "    def get_power(self, config):\r\n",
    "        return self.configuration[str(config)][\"power\"]\r\n",
    "    \r\n",
    "    def get_base_price(self, base_price):\r\n",
    "        return self.configuration[str(base_price)][\"base\"]\r\n",
    "\r\n"
   ],
   "outputs": [
    {
     "output_type": "stream",
     "name": "stdout",
     "text": [
      "2\n"
     ]
    }
   ],
   "metadata": {}
  },
  {
   "cell_type": "code",
   "execution_count": null,
   "source": [
    "def cost_calculation(self, configuration, initial_state, final_state, capacity, is_peak, is_holiday):\r\n",
    "        if is_peak:\r\n",
    "            base_price = 100\r\n",
    "        else:\r\n",
    "            base_price = 50\r\n",
    "\r\n",
    "        if is_holiday:\r\n",
    "            surcharge_factor = 1.1\r\n",
    "        else:\r\n",
    "            surcharge_factor = 1\r\n",
    "        bp=Charger_Configurations().get_base_price(configuration)\r\n",
    "        cost = (final_state - initial_state) / 100 * capacity * base_price*bp / 100 * surcharge_factor\r\n",
    "        return cost\r\n",
    "\r\n",
    "\r\n",
    "self.assertEqual(self.calculator.cost_calculation(test_configuration, test_initial_state, test_final_state, test_capacity, True, True), \"\")\r\n",
    "self.assertEqual(self.calculator.cost_calculation(test_configuration, test_initial_state, test_final_state, test_capacity, False, True), \"\")\r\n",
    "self.assertEqual(self.calculator.cost_calculation(test_configuration, test_initial_state, test_final_state, test_capacity, True, False), \"\")\r\n",
    "self.assertEqual(self.calculator.cost_calculation(test_configuration, test_initial_state, test_final_state, test_capacity, False, False), \"\")"
   ],
   "outputs": [],
   "metadata": {}
  },
  {
   "cell_type": "code",
   "execution_count": null,
   "source": [
    "import datetime\r\n",
    "\r\n",
    "inputdate=\"01/01/2022\"\r\n",
    "i = datetime.datetime.strptime(inputdate, \"%d/%m/%Y\")\r\n",
    "if i > datetime.date.today():\r\n",
    "    print(\"YES\")"
   ],
   "outputs": [
    {
     "output_type": "error",
     "ename": "TypeError",
     "evalue": "can't compare datetime.datetime to datetime.date",
     "traceback": [
      "\u001b[1;31m---------------------------------------------------------------------------\u001b[0m",
      "\u001b[1;31mTypeError\u001b[0m                                 Traceback (most recent call last)",
      "\u001b[1;32mC:\\Users\\ENDUSE~1\\AppData\\Local\\Temp/ipykernel_15284/4153507107.py\u001b[0m in \u001b[0;36m<module>\u001b[1;34m\u001b[0m\n\u001b[0;32m      3\u001b[0m \u001b[0minputdate\u001b[0m\u001b[1;33m=\u001b[0m\u001b[1;34m\"01/01/2022\"\u001b[0m\u001b[1;33m\u001b[0m\u001b[1;33m\u001b[0m\u001b[0m\n\u001b[0;32m      4\u001b[0m \u001b[0mi\u001b[0m \u001b[1;33m=\u001b[0m \u001b[0mdatetime\u001b[0m\u001b[1;33m.\u001b[0m\u001b[0mdatetime\u001b[0m\u001b[1;33m.\u001b[0m\u001b[0mstrptime\u001b[0m\u001b[1;33m(\u001b[0m\u001b[0minputdate\u001b[0m\u001b[1;33m,\u001b[0m \u001b[1;34m\"%d/%m/%Y\"\u001b[0m\u001b[1;33m)\u001b[0m\u001b[1;33m\u001b[0m\u001b[1;33m\u001b[0m\u001b[0m\n\u001b[1;32m----> 5\u001b[1;33m \u001b[1;32mif\u001b[0m \u001b[0mi\u001b[0m \u001b[1;33m>\u001b[0m \u001b[0mdatetime\u001b[0m\u001b[1;33m.\u001b[0m\u001b[0mdate\u001b[0m\u001b[1;33m.\u001b[0m\u001b[0mtoday\u001b[0m\u001b[1;33m(\u001b[0m\u001b[1;33m)\u001b[0m\u001b[1;33m:\u001b[0m\u001b[1;33m\u001b[0m\u001b[1;33m\u001b[0m\u001b[0m\n\u001b[0m\u001b[0;32m      6\u001b[0m     \u001b[0mprint\u001b[0m\u001b[1;33m(\u001b[0m\u001b[1;34m\"YES\"\u001b[0m\u001b[1;33m)\u001b[0m\u001b[1;33m\u001b[0m\u001b[1;33m\u001b[0m\u001b[0m\n",
      "\u001b[1;31mTypeError\u001b[0m: can't compare datetime.datetime to datetime.date"
     ]
    }
   ],
   "metadata": {}
  },
  {
   "cell_type": "code",
   "execution_count": null,
   "source": [
    "import datetime\r\n",
    "inputdate=\"01/01/2022\"\r\n",
    "current_date=datetime.date.today()\r\n",
    "i = datetime.datetime.strptime(inputdate, \"%d/%m/%Y\")\r\n",
    "yr=i.year\r\n",
    "mon=i.month\r\n",
    "day=i.day\r\n",
    "if datetime.date(yr, mon, day) > current_date:\r\n",
    "    print(\"done\")"
   ],
   "outputs": [
    {
     "output_type": "stream",
     "name": "stdout",
     "text": [
      "done\n"
     ]
    }
   ],
   "metadata": {}
  },
  {
   "cell_type": "code",
   "execution_count": 3,
   "source": [
    "i=[1,2,3]\r\n",
    "i+=[2]\r\n",
    "i\r\n"
   ],
   "outputs": [
    {
     "output_type": "execute_result",
     "data": {
      "text/plain": [
       "[1, 2, 3, 2]"
      ]
     },
     "metadata": {},
     "execution_count": 3
    }
   ],
   "metadata": {}
  },
  {
   "cell_type": "markdown",
   "source": [
    "<h1>CODEWARS</h1>\r\n",
    "<h3>Q1</h3>"
   ],
   "metadata": {}
  },
  {
   "cell_type": "code",
   "execution_count": 4,
   "source": [
    "//reduceright\r\n"
   ],
   "outputs": [
    {
     "output_type": "error",
     "ename": "SyntaxError",
     "evalue": "invalid syntax (Temp/ipykernel_12616/3923272681.py, line 1)",
     "traceback": [
      "\u001b[1;36m  File \u001b[1;32m\"C:\\Users\\ENDUSE~1\\AppData\\Local\\Temp/ipykernel_12616/3923272681.py\"\u001b[1;36m, line \u001b[1;32m1\u001b[0m\n\u001b[1;33m    //reduceright\u001b[0m\n\u001b[1;37m    ^\u001b[0m\n\u001b[1;31mSyntaxError\u001b[0m\u001b[1;31m:\u001b[0m invalid syntax\n"
     ]
    }
   ],
   "metadata": {}
  }
 ],
 "metadata": {
  "orig_nbformat": 4,
  "language_info": {
   "name": "python",
   "version": "3.9.5",
   "mimetype": "text/x-python",
   "codemirror_mode": {
    "name": "ipython",
    "version": 3
   },
   "pygments_lexer": "ipython3",
   "nbconvert_exporter": "python",
   "file_extension": ".py"
  },
  "kernelspec": {
   "name": "python3",
   "display_name": "Python 3.9.5 64-bit"
  },
  "interpreter": {
   "hash": "9bb202ab933488e2c896d83b69c17805b7bfafa69657c445e6b48efb3750f8f0"
  }
 },
 "nbformat": 4,
 "nbformat_minor": 2
}